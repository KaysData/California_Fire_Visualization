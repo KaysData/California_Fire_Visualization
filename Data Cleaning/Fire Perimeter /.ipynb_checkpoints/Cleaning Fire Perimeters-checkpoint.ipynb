{
 "cells": [
  {
   "cell_type": "code",
   "execution_count": 1,
   "metadata": {},
   "outputs": [],
   "source": [
    "import pandas as pd\n",
    "import geopandas as gpd\n",
    "import matplotlib.pyplot as plt\n",
    "import numpy as np\n",
    "from shapely.geometry import Polygon, Point\n",
    "import time\n",
    "%matplotlib inline "
   ]
  },
  {
   "cell_type": "code",
   "execution_count": 2,
   "metadata": {},
   "outputs": [],
   "source": [
    "#https://map.dfg.ca.gov/metadata/ds0397.html"
   ]
  },
  {
   "cell_type": "code",
   "execution_count": 3,
   "metadata": {},
   "outputs": [],
   "source": [
    "long_diff = 263 #somehow this ends up being actual longitude\n",
    "lat_diff = 284 #somehow this ends up being actual latitude\n",
    "\n",
    "# from description of RX burns\n",
    "\n",
    "west_longitude = 42.048584 # (North and West), and (South and East) values switched based on documentation above\n",
    "east_longitude = 32.555802\n",
    "north_latitude = -124.495992 \n",
    "south_latitude = -115.350299 \n",
    "\n",
    "west_native = 447814.640000\n",
    "east_native = -597860.114600\n",
    "north_native = -373246.905000\n",
    "south_native = 386027.559400\n",
    "\n",
    "\n",
    "def native_to_long(native):\n",
    "    zeroed_native = native - west_native\n",
    "\n",
    "    long_abs_diff = west_longitude - east_longitude\n",
    "    native_long_abs_diff = west_native - east_native\n",
    "    conversion_factor = long_abs_diff/native_long_abs_diff\n",
    "    longitude = (conversion_factor*zeroed_native)+ west_longitude\n",
    "    return longitude\n",
    "\n",
    "def native_to_lat(native):\n",
    "    zeroed_native = native - north_native\n",
    "    \n",
    "    lat_abs_diff = -(north_latitude - south_latitude)\n",
    "    native_lat_abs_diff = south_native - north_native\n",
    "    conversion_factor = lat_abs_diff/native_lat_abs_diff\n",
    "    latitude = (conversion_factor*zeroed_native) + north_latitude\n",
    "    return latitude\n",
    "\n",
    "def long_to_native(longitude):\n",
    "    zeroed_longitude = longitude - west_longitude\n",
    "    \n",
    "    long_abs_diff = west_longitude - east_longitude\n",
    "    native_long_abs_diff = west_native - east_native\n",
    "    conversion_factor = native_long_abs_diff/long_abs_diff\n",
    "    native = (conversion_factor*zeroed_longitude) + west_native\n",
    "    return native\n",
    "\n",
    "def lat_to_native(latitude):\n",
    "    zeroed_lat = latitude - north_latitude\n",
    "    \n",
    "    lat_abs_diff = -(north_latitude - south_latitude)\n",
    "    native_lat_abs_diff = south_native - north_native\n",
    "    conversion_factor = native_lat_abs_diff/lat_abs_diff\n",
    "    native = (conversion_factor*zeroed_lat) + north_native\n",
    "    return native\n",
    "\n",
    "def native_long_to_pixel_y(native_long):\n",
    "    zeroed_native = native_long - west_native\n",
    "    \n",
    "    pixel_long_abs_diff = long_diff \n",
    "    native_long_abs_diff = west_native - east_native\n",
    "    conversion_factor = pixel_long_abs_diff/native_long_abs_diff\n",
    "    pixel_y = -(conversion_factor*zeroed_native) \n",
    "    return int(pixel_y)\n",
    "    \n",
    "def native_lat_to_pixel_x(native_lat):\n",
    "    zeroed_native = native_lat - north_native\n",
    "    \n",
    "    pixel_lat_abs_diff = lat_diff \n",
    "    native_lat_abs_diff = south_native - north_native\n",
    "    conversion_factor = pixel_lat_abs_diff/native_lat_abs_diff\n",
    "    pixel_x = (conversion_factor*zeroed_native) \n",
    "    return int(pixel_x)\n",
    "\n",
    "def pixel_y_native_long(pixel_y):\n",
    "    \n",
    "    pixel_long_abs_diff = long_diff \n",
    "    native_long_abs_diff = west_native - east_native\n",
    "    conversion_factor = native_long_abs_diff/pixel_long_abs_diff\n",
    "    native_long = -(conversion_factor*pixel_y)+west_native\n",
    "    return native_long\n",
    "\n",
    "def pixel_x_native_lat(pixel_x):\n",
    "    \n",
    "    pixel_lat_abs_diff = lat_diff \n",
    "    native_lat_abs_diff = south_native - north_native\n",
    "    conversion_factor = native_lat_abs_diff/pixel_lat_abs_diff\n",
    "    native_lat = (conversion_factor*pixel_x) + north_native\n",
    "    return native_lat\n",
    "\n",
    "def native_long_to_points_arr(native_long):\n",
    "    adjusted_native_long = -(native_long - west_native)\n",
    "    \n",
    "    west_native2 = long_to_native(42.009246999999995)\n",
    "    east_native2 = long_to_native(32.534155999999996)\n",
    "    \n",
    "    native2_long_abs_diff = west_native2 - east_native2\n",
    "    \n",
    "    conversion_factor = long_diff/native2_long_abs_diff\n",
    "    points_arr_indecies = (conversion_factor*adjusted_native_long)\n",
    "    return int(points_arr_indecies)-1\n",
    "\n",
    "def native_lat_to_points_arr(native_lat):\n",
    "    adjusted_native_lat = native_lat - north_native\n",
    "    \n",
    "    north_native2 = lat_to_native(-124.409591)\n",
    "    south_native2 = lat_to_native(-114.139055) \n",
    "    \n",
    "    native2_lat_abs_diff = south_native2 - north_native2 \n",
    "    conversion_factor = lat_diff/native2_lat_abs_diff\n",
    "    \n",
    "    points_arr_indecies= (conversion_factor*adjusted_native_lat)\n",
    "    return int(points_arr_indecies)\n",
    "\n",
    "def contains(a_polygon, a_point):\n",
    "    return a_polygon.contains(a_point)\n",
    "contains_vectorized = np.vectorize(contains)\n"
   ]
  },
  {
   "cell_type": "code",
   "execution_count": 4,
   "metadata": {},
   "outputs": [],
   "source": [
    "def make_fire_map(polygon_df):\n",
    "    bool_pixel_array= np.zeros([lat_diff, long_diff])\n",
    "\n",
    "    #start_time = time.time()\n",
    "\n",
    "    found_point_counter =0 \n",
    "    averaged_point_counter =0 \n",
    "\n",
    "    #tests if point falls in polygon if it does then it updates the pixel array\n",
    "    for multipolygon in polygon_df:#[0:10]: \n",
    "        max_lat = -10000000\n",
    "        min_lat = 10000000\n",
    "        max_long = -10000000\n",
    "        min_long = 10000000\n",
    "        for index, item in enumerate(multipolygon.bounds):\n",
    "            if(index%2==0):\n",
    "                if(item>max_lat):\n",
    "                    max_lat = item\n",
    "\n",
    "                if(item<min_lat):\n",
    "                    min_lat = item\n",
    "            else:\n",
    "                if(item>max_long):\n",
    "                    max_long= item\n",
    "\n",
    "                if(item<min_long):\n",
    "                    min_long = item\n",
    "        #print('new polygon')\n",
    "\n",
    "        current_pixel_lat = lat_start_index= native_lat_to_points_arr(max_lat) #lat_start_index\n",
    "        pixel_lat_end_index = native_lat_to_points_arr(min_lat)\n",
    "\n",
    "        current_pixel_long = long_start_index= native_long_to_points_arr(min_long)#long_start_index\n",
    "        pixel_long_end_index =  native_long_to_points_arr(max_long)\n",
    "\n",
    "        entered_third_loop = 0\n",
    "        entered_second_loop = 0\n",
    "        found_a_point = 0\n",
    "        averaged_a_point = 0\n",
    "\n",
    "        while(current_pixel_lat<=pixel_lat_end_index): #starting north and going south\n",
    "            current_pixel_long = long_start_index\n",
    "            entered_third_loop =1\n",
    "\n",
    "            while(current_pixel_long<= pixel_long_end_index): #starting east and going west\n",
    "                entered_second_loop =1\n",
    "                if(current_pixel_lat>=0 and current_pixel_lat<lat_diff and current_pixel_long>=0 and current_pixel_long<long_diff):\n",
    "                    if(multipolygon.contains(latitude_longitude_ar[current_pixel_lat, current_pixel_long])):\n",
    "                        found_a_point = 1\n",
    "                        bool_pixel_array[current_pixel_lat,current_pixel_long] = 1\n",
    "\n",
    "                current_pixel_long += 1\n",
    "            current_pixel_lat += 1\n",
    "\n",
    "        if(found_a_point==0):\n",
    "            pixel_lat=int((lat_start_index+pixel_lat_end_index)/2)\n",
    "            pixel_long=int((long_start_index+pixel_long_end_index)/2)\n",
    "            if(pixel_lat>=0 and pixel_lat<lat_diff and pixel_long>=0 and pixel_long<long_diff):\n",
    "                bool_pixel_array[pixel_lat,pixel_long] = 1\n",
    "                averaged_a_point =1\n",
    "\n",
    "        found_point_counter += found_a_point\n",
    "        averaged_point_counter += averaged_a_point\n",
    "\n",
    "    #print(found_point_counter)\n",
    "    #print(averaged_point_counter)\n",
    "    #print(\"--- %s seconds ---\" % (time.time() - start_time))\n",
    "    return bool_pixel_array"
   ]
  },
  {
   "cell_type": "code",
   "execution_count": 5,
   "metadata": {},
   "outputs": [],
   "source": [
    "#makes list of native 'lats' and 'longs' from in range of maximum and minimum lat and long from vhi data\n",
    "native_lat_points=np.linspace(lat_to_native(42.009246999999995),lat_to_native(32.534155999999996),num=lat_diff)\n",
    "native_long_points=np.linspace(long_to_native(-124.409591),long_to_native(-114.139055),num=long_diff)\n",
    "\n",
    "#makes list of native points to test\n",
    "latitude_longitude_ar = np.empty([lat_diff,long_diff], dtype=Point)\n",
    "for index_lat, native_n_s in enumerate(native_lat_points):\n",
    "    for index_long, native_w_e in enumerate(native_long_points):\n",
    "        latitude_longitude_ar[index_lat, index_long] = Point(native_n_s,native_w_e)\n"
   ]
  },
  {
   "cell_type": "code",
   "execution_count": 6,
   "metadata": {},
   "outputs": [
    {
     "name": "stdout",
     "output_type": "stream",
     "text": [
      "Lightning\n",
      "2000\n",
      "19\n"
     ]
    }
   ],
   "source": [
    "causes= {\n",
    "1: 'Lightning',\n",
    "2: 'Equipment Use',\n",
    "3  : 'Smoking',\n",
    "4 : 'Campfire',\n",
    "5 : 'Debris',\n",
    "6 : 'Railroad',\n",
    "7 : 'Arson',\n",
    "8 : 'Playing_with_Fire',\n",
    "9 : 'Miscellaneous',\n",
    "10 : 'Vehicle',\n",
    "11 : 'Power Line',\n",
    "12 : 'Firefighter Training',\n",
    "13 : 'Non-Firefighter Training',\n",
    "14 : 'Unidentified',\n",
    "15 : 'Structure',\n",
    "16 : 'Aircraft',\n",
    "17 : 'Volcanic',\n",
    "18 : 'Escaped Prescribed Burn',\n",
    "19 : 'Illegal_Alien_Campfire',\n",
    "}\n",
    "\n",
    "years = [2000,2001,2002,2003,2004,2005,2006,2007,2008,2009,2010,2011,2012,2013,2014,2015,2016,2017,2018]\n",
    "print(causes[1])\n",
    "print(years[0])\n",
    "print(len(years))\n",
    "\n"
   ]
  },
  {
   "cell_type": "code",
   "execution_count": 7,
   "metadata": {},
   "outputs": [],
   "source": [
    "#set filepath and load gdb folder\n",
    "fp = \"fire18_1.gdb/a000000af.gdbtable\"\n",
    "map_all_df = gpd.read_file(fp)# check data type so we can see that this is not a normal dataframe, but a GEOdataframe\n",
    "map_all_df= map_all_df.loc[map_all_df['STATE'] == 'CA']"
   ]
  },
  {
   "cell_type": "code",
   "execution_count": 8,
   "metadata": {},
   "outputs": [
    {
     "name": "stdout",
     "output_type": "stream",
     "text": [
      "[   0.    0.    0.    0. 1878. 1895. 1896. 1898. 1900. 1902. 1903. 1905.\n",
      " 1906. 1907. 1908. 1909. 1910. 1911. 1912. 1913. 1914. 1915. 1916. 1917.\n",
      " 1918. 1919. 1920. 1921. 1922. 1923. 1924. 1925. 1926. 1927. 1928. 1929.\n",
      " 1930. 1931. 1932. 1933. 1934. 1935. 1936. 1937. 1938. 1939. 1940. 1941.\n",
      " 1942. 1943. 1944. 1945. 1946. 1947. 1948. 1949. 1950. 1951. 1952. 1953.\n",
      " 1954. 1955. 1956. 1957. 1958. 1959. 1960. 1961. 1962. 1963. 1964. 1965.\n",
      " 1966. 1967. 1968. 1969. 1970. 1971. 1972. 1973. 1974. 1975. 1976. 1977.\n",
      " 1978. 1979. 1980. 1981. 1982. 1983. 1984. 1985. 1986. 1987. 1988. 1989.\n",
      " 1990. 1991. 1992. 1993. 1994. 1995. 1996. 1997. 1998. 1999. 2000. 2001.\n",
      " 2002. 2003. 2004. 2005. 2006. 2007. 2008. 2009. 2010. 2011. 2012. 2013.\n",
      " 2014. 2015. 2016. 2017. 2018.]\n"
     ]
    }
   ],
   "source": [
    "years_unique = map_all_df['YEAR_'].unique()\n",
    "np_years_unique = np.zeros([125])\n",
    "np_years_unique[0:41] =years_unique[0:41].astype(np.float)\n",
    "np_years_unique[42:120] =years_unique[42:120].astype(np.float)\n",
    "np_years_unique[121:123] =years_unique[121:123].astype(np.float)\n",
    "\n",
    "#print(years_unique[0:41].astype(np.float))\n",
    "#print(years_unique[42:120].astype(np.float))\n",
    "#print(years_unique[121:125].astype(np.float))\n",
    "print(np.sort(np_years_unique))"
   ]
  },
  {
   "cell_type": "code",
   "execution_count": 9,
   "metadata": {},
   "outputs": [],
   "source": [
    "num_fires_by_cause = np.empty([19,19],dtype=int) #rows are years # colums are causes\n",
    "\n",
    "\n",
    "for year_index, year in enumerate(years):\n",
    "    for cause_key, cause_value in causes.items():\n",
    "        \n",
    "        year_str = '%d'% year\n",
    "        map_year_df= map_all_df[map_all_df['YEAR_']== year_str]\n",
    "        map_year_df = map_year_df[map_year_df['CAUSE']== cause_key]\n",
    "        num_fires_by_cause[year_index, cause_key-1] = map_year_df['geometry'].count()\n",
    "\n",
    "totals_fires_per_year = np.sum(num_fires_by_cause, axis=1)\n",
    "\n",
    "#print(num_fires_by_cause)\n",
    "#print(totals_fires_per_year)\n"
   ]
  },
  {
   "cell_type": "code",
   "execution_count": 10,
   "metadata": {},
   "outputs": [
    {
     "data": {
      "text/plain": [
       "array([1., 1., 1., 1., 1., 1., 1., 1., 1., 1., 1., 1., 1., 1., 1., 1., 1.,\n",
       "       1., 1.])"
      ]
     },
     "execution_count": 10,
     "metadata": {},
     "output_type": "execute_result"
    }
   ],
   "source": [
    "\n",
    "t_num_fires_by_cause = num_fires_by_cause.transpose()\n",
    "quotient = np.divide(t_num_fires_by_cause, totals_fires_per_year)\n",
    "percent_of_fires_in_year_by_cause = quotient.transpose()\n",
    "\n",
    "path = \"/Users/kaileyayala/PythonWork/Cleaning Data for Intro Viz/Fire_CSVs/\"\n",
    "filename = \"number_of_fires_per_year_by_cause.csv\"\n",
    "np.savetxt(path+'/'+filename, num_fires_by_cause, delimiter=\",\",fmt=\"%d\")\n",
    "\n",
    "filename = \"percent_of_fires_per_year_by_cause.csv\"\n",
    "np.savetxt(path+'/'+filename, percent_of_fires_in_year_by_cause, delimiter=\",\",fmt=\"%f\")\n",
    "\n",
    "path = \"/Users/kaileyayala/PythonWork/Cleaning Data for Intro Viz/Fire_CSVs/\"\n",
    "filename = \"number_of_fires_per_year_total.csv\"\n",
    "np.savetxt(path+'/'+filename, totals_fires_per_year, delimiter=\",\",fmt=\"%d\")\n",
    "\n",
    "np.sum(percent_of_fires_in_year_by_cause, axis=1)\n"
   ]
  },
  {
   "cell_type": "code",
   "execution_count": 12,
   "metadata": {},
   "outputs": [
    {
     "data": {
      "image/png": "[encoded data removed]",
      "text/plain": [
       "<Figure size 432x288 with 1 Axes>"
      ]
     },
     "metadata": {
      "needs_background": "light"
     },
     "output_type": "display_data"
    }
   ],
   "source": [
    "for year in years:\n",
    "    for cause_key, cause_value in causes.items():\n",
    "        \n",
    "        year_str = '%d'% year\n",
    "        map_year_df= map_all_df[map_all_df['YEAR_']== year_str]\n",
    "        map_year_df = map_year_df[map_year_df['CAUSE']== cause_key]\n",
    "\n",
    "        fires_df = map_year_df\n",
    "        #fires_df.plot()\n",
    "        polygon_df = fires_df[\"geometry\"]\n",
    "        fire_map = make_fire_map(polygon_df)\n",
    "\n",
    "        fire_map=fire_map.transpose()\n",
    "        if(cause_key == 1):\n",
    "            plt.imshow(fire_map, cmap='hot')#, interpolation='nearest')\n",
    "\n",
    "        current_dir_path= \"/Users/kaileyayala/PythonWork/Cleaning Data for Intro Viz/Fire_CSVs/\" + year_str\n",
    "        filename ='%d_'% (year)+ cause_value + '_fires.csv' \n",
    "        np.savetxt(current_dir_path +'/'+ filename, fire_map, delimiter=\",\",fmt=\"%d\")\n",
    "\n",
    "#map_2018_df = map_all_df[map_all_df[\"YEAR_\"]=='2018']\n",
    "fire_map = make_fire_map(map_all_df[\"geometry\"])\n",
    "fire_map1= fire_map.transpose()        \n",
    "current_dir_path= \"/Users/kaileyayala/PythonWork/Cleaning Data for Intro Viz/Fire_CSVs/\" \n",
    "filename ='all_fires.csv' \n",
    "np.savetxt(current_dir_path +'/'+ filename,fire_map1 , delimiter=\",\",fmt=\"%d\")"
   ]
  },
  {
   "cell_type": "code",
   "execution_count": null,
   "metadata": {},
   "outputs": [],
   "source": []
  },
  {
   "cell_type": "code",
   "execution_count": 14,
   "metadata": {},
   "outputs": [
    {
     "data": {
      "image/png": "[encoded data removed]",
      "text/plain": [
       "<Figure size 432x288 with 1 Axes>"
      ]
     },
     "metadata": {
      "needs_background": "light"
     },
     "output_type": "display_data"
    }
   ],
   "source": [
    "for year in years:\n",
    "        \n",
    "    year_str = '%d'% year\n",
    "    map_year_df= map_all_df[map_all_df['YEAR_']== year_str]\n",
    "\n",
    "    fires_df = map_year_df\n",
    "    #fires_df.plot()\n",
    "    polygon_df = fires_df[\"geometry\"]\n",
    "    fire_map = make_fire_map(polygon_df)\n",
    "\n",
    "    fire_map=fire_map.transpose()\n",
    "    if(year == 2018):\n",
    "        plt.imshow(fire_map, cmap='hot')#, interpolation='nearest')\n",
    "\n",
    "    current_dir_path= \"/Users/kaileyayala/PythonWork/Cleaning Data for Intro Viz/Fire_CSVs/\" + year_str\n",
    "    filename ='%d_'% (year)+ 'all' + '_fires.csv' \n",
    "    np.savetxt(current_dir_path +'/'+ filename, fire_map, delimiter=\",\",fmt=\"%d\")"
   ]
  },
  {
   "cell_type": "code",
   "execution_count": 13,
   "metadata": {},
   "outputs": [
    {
     "data": {
      "image/png": "[encoded data removed]",
      "text/plain": [
       "<Figure size 432x288 with 1 Axes>"
      ]
     },
     "metadata": {
      "needs_background": "light"
     },
     "output_type": "display_data"
    }
   ],
   "source": [
    "map_2018_df = map_all_df[map_all_df[\"YEAR_\"]=='2018']\n",
    "fire_map = make_fire_map(map_2018_df[\"geometry\"])\n",
    "fire_map1= fire_map.transpose()\n",
    "plt.imshow(fire_map1, cmap='hot')#, interpolation='nearest')\n",
    "np.savetxt('2018_fires.csv', fire_map1, delimiter=\",\",fmt=\"%d\")"
   ]
  },
  {
   "cell_type": "code",
   "execution_count": null,
   "metadata": {},
   "outputs": [],
   "source": []
  },
  {
   "cell_type": "code",
   "execution_count": null,
   "metadata": {},
   "outputs": [],
   "source": []
  }
 ],
 "metadata": {
  "kernelspec": {
   "display_name": "Python 3",
   "language": "python",
   "name": "python3"
  },
  "language_info": {
   "codemirror_mode": {
    "name": "ipython",
    "version": 3
   },
   "file_extension": ".py",
   "mimetype": "text/x-python",
   "name": "python",
   "nbconvert_exporter": "python",
   "pygments_lexer": "ipython3",
   "version": "3.7.6"
  }
 },
 "nbformat": 4,
 "nbformat_minor": 2
}
