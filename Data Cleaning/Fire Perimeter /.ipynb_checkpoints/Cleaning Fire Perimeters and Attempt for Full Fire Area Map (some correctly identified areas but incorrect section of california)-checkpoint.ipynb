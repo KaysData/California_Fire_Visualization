{
 "cells": [
  {
   "cell_type": "code",
   "execution_count": 27,
   "metadata": {},
   "outputs": [],
   "source": [
    "import pandas as pd\n",
    "import geopandas as gpd\n",
    "import matplotlib.pyplot as plt\n",
    "import numpy as np\n",
    "from shapely.geometry import Polygon, Point\n",
    "import time\n",
    "%matplotlib inline "
   ]
  },
  {
   "cell_type": "code",
   "execution_count": 28,
   "metadata": {},
   "outputs": [],
   "source": [
    "#https://map.dfg.ca.gov/metadata/ds0397.html"
   ]
  },
  {
   "cell_type": "code",
   "execution_count": 29,
   "metadata": {},
   "outputs": [],
   "source": [
    "lat_diff = 285\n",
    "long_diff = 263\n",
    "\n",
    "north_latitude = 42.048584 \n",
    "south_latitude = 32.555802\n",
    "north_native = 447814.640000\n",
    "south_native = -597860.114600\n",
    "\n",
    "west_longitude  = -124.495992\n",
    "east_longitude = -115.350299\n",
    "west_native = -373246.905000\n",
    "east_native = 386027.559400\n",
    "\n",
    "def native_to_lat(native):\n",
    "    zeroed_native = native - 447814.640000\n",
    "\n",
    "    lat_abs_diff = north_latitude - south_latitude\n",
    "    native_lat_abs_diff = north_native - south_native\n",
    "    conversion_factor = lat_abs_diff/native_lat_abs_diff\n",
    "    latitude = (conversion_factor*zeroed_native)+ 42.048584 \n",
    "    return latitude\n",
    "\n",
    "def lat_to_native(latitude):\n",
    "    zeroed_latitude = latitude - 42.048584\n",
    "    \n",
    "    lat_abs_diff = north_latitude - south_latitude\n",
    "    native_lat_abs_diff = north_native - south_native\n",
    "    conversion_factor = native_lat_abs_diff/lat_abs_diff\n",
    "    native = (conversion_factor*zeroed_latitude) + 447814.640000\n",
    "    return native\n",
    "\n",
    "def native_to_long(native):\n",
    "    zeroed_native = native + 373246.905000\n",
    "    \n",
    "    long_abs_diff = -(west_longitude - east_longitude)\n",
    "    native_long_abs_diff = east_native - west_native\n",
    "    conversion_factor = long_abs_diff/native_long_abs_diff\n",
    "    longitude = (conversion_factor*zeroed_native) -124.495992\n",
    "    return longitude\n",
    "\n",
    "def long_to_native(longitude):\n",
    "    zeroed_long = longitude + 124.495992\n",
    "    \n",
    "    long_abs_diff = -(west_longitude - east_longitude)\n",
    "    native_long_abs_diff = east_native - west_native\n",
    "    conversion_factor = native_long_abs_diff/long_abs_diff\n",
    "    native = (conversion_factor*zeroed_long) -373246.905000\n",
    "    return native\n",
    "\n",
    "def native_lat_to_pixel_y(native_lat):\n",
    "    zeroed_native = native_lat - 447814.640000\n",
    "    \n",
    "    pixel_lat_abs_diff = lat_diff \n",
    "    native_lat_abs_diff = north_native - south_native\n",
    "    conversion_factor = pixel_lat_abs_diff/native_lat_abs_diff\n",
    "    pixel_y = -(conversion_factor*zeroed_native) \n",
    "    return int(pixel_y)\n",
    "    \n",
    "def native_long_to_pixel_x(native_long):\n",
    "    zeroed_native = native_long + 373246.905000\n",
    "    \n",
    "    pixel_long_abs_diff = long_diff \n",
    "    native_long_abs_diff = east_native - west_native\n",
    "    conversion_factor = pixel_long_abs_diff/native_long_abs_diff\n",
    "    pixel_x = (conversion_factor*zeroed_native) \n",
    "    return int(pixel_x)\n",
    "\n",
    "def pixel_y_native_lat(pixel_y):\n",
    "    \n",
    "    pixel_lat_abs_diff = lat_diff \n",
    "    native_lat_abs_diff = north_native - south_native\n",
    "    conversion_factor = native_lat_abs_diff/pixel_lat_abs_diff\n",
    "    native_lat = -(conversion_factor*pixel_y)+447814.640000\n",
    "    return native_lat\n",
    "\n",
    "def pixel_x_native_long(pixel_x):\n",
    "    \n",
    "    pixel_long_abs_diff = long_diff \n",
    "    native_long_abs_diff = east_native - west_native\n",
    "    conversion_factor = native_long_abs_diff/pixel_long_abs_diff\n",
    "    native_long = (conversion_factor*pixel_x) - 373246.905000\n",
    "    return native_long\n",
    "\n",
    "def native_lat_to_points_arr(native_lat):\n",
    "    adjusted_native_lat = -(native_lat - 447814.640000)\n",
    "    \n",
    "    north_native2 = 443481.48373224796\n",
    "    south_native2 = -600244.5236950446\n",
    "    \n",
    "    native2_lat_abs_diff = north_native2 - south_native2\n",
    "    \n",
    "    conversion_factor = lat_diff/native2_lat_abs_diff\n",
    "    points_arr_indecies = (conversion_factor*adjusted_native_lat)\n",
    "    return int(points_arr_indecies)-1\n",
    "\n",
    "def native_long_to_points_arr(native_long):\n",
    "    adjusted_native_long = native_long + 373246.905000\n",
    "    \n",
    "    west_native2 = -366073.9031292155\n",
    "    east_native2 = 486584.9080183847\n",
    "    \n",
    "    native2_long_abs_diff = east_native2 - west_native2 \n",
    "    conversion_factor = long_diff/native2_long_abs_diff\n",
    "    \n",
    "    points_arr_indecies= (conversion_factor*adjusted_native_long)\n",
    "    return int(points_arr_indecies)-2\n",
    "\n",
    "def contains(a_polygon, a_point):\n",
    "    return a_polygon.contains(a_point)\n",
    "contains_vectorized = np.vectorize(contains)\n"
   ]
  },
  {
   "cell_type": "code",
   "execution_count": 30,
   "metadata": {},
   "outputs": [],
   "source": [
    "#makes list of native 'lats' and 'longs' from in range of maximum and minimum lat and long from vhi data\n",
    "native_lat_points=np.linspace(lat_to_native(42.009246999999995),lat_to_native(32.534155999999996),num=lat_diff)\n",
    "native_long_points=np.linspace(long_to_native(-124.409591),long_to_native(-114.139055),num=long_diff)\n",
    "\n",
    "#makes list of native points to test\n",
    "latitude_longitude_ar = np.empty([lat_diff,long_diff], dtype=Point)\n",
    "for index_lat, native_n_s in enumerate(native_lat_points):\n",
    "    for index_long, native_w_e in enumerate(native_long_points):\n",
    "        latitude_longitude_ar[index_lat, index_long] = Point(native_n_s,native_w_e)"
   ]
  },
  {
   "cell_type": "code",
   "execution_count": 31,
   "metadata": {},
   "outputs": [
    {
     "name": "stdout",
     "output_type": "stream",
     "text": [
      "Illegal_Alien_Campfire\n",
      "2000\n"
     ]
    }
   ],
   "source": [
    "causes= {\n",
    "1: 'Lightning',\n",
    "2: 'Equipment Use',\n",
    "3  : 'Smoking',\n",
    "4 : 'Campfire',\n",
    "5 : 'Debris',\n",
    "6 : 'Railroad',\n",
    "7 : 'Arson',\n",
    "8 : 'Playing_with_Fire',\n",
    "9 : 'Miscellaneous',\n",
    "10 : 'Vehicle',\n",
    "11 : 'Power Line',\n",
    "12 : 'Firefighter Training',\n",
    "13 : 'Non-Firefighter Training',\n",
    "14 : 'Unknown/Unidentified',\n",
    "15 : 'Structure',\n",
    "16 : 'Aircraft',\n",
    "17 : 'Volcanic',\n",
    "18 : 'Escaped Prescribed Burn',\n",
    "19 : 'Illegal_Alien_Campfire',\n",
    "}\n",
    "\n",
    "years = [2000,2001,2002,2003,2004,2005,2006,2007,2008,2009,2010,2011,2012,2013,2014,2015,2016,2017,2018]\n",
    "print(causes[19])\n",
    "print(years[0])\n"
   ]
  },
  {
   "cell_type": "code",
   "execution_count": 32,
   "metadata": {},
   "outputs": [
    {
     "name": "stdout",
     "output_type": "stream",
     "text": [
      "  YEAR_ STATE AGENCY UNIT_ID FIRE_NAME   INC_NUM           ALARM_DATE  \\\n",
      "0  2007    CA    CCO     LAC   OCTOBER  00246393  2007-10-21T00:00:00   \n",
      "1  2007    CA    CCO     LAC     MAGIC  00233077  2007-10-22T00:00:00   \n",
      "2  2007    CA    USF     ANF     RANCH  00000166  2007-10-20T00:00:00   \n",
      "3  2007    CA    CCO     LAC      EMMA  00201384  2007-09-11T00:00:00   \n",
      "4  2007    CA    CCO     LAC    CORRAL  00259483  2007-11-24T00:00:00   \n",
      "\n",
      "             CONT_DATE  CAUSE COMMENTS  REPORT_AC     GIS_ACRES  C_METHOD  \\\n",
      "0  2007-10-23T00:00:00   14.0                 NaN     25.736713       8.0   \n",
      "1  2007-10-25T00:00:00   14.0                 NaN   2824.877197       8.0   \n",
      "2  2007-11-15T00:00:00    2.0             54716.0  58410.335938       7.0   \n",
      "3  2007-09-11T00:00:00   14.0                 NaN    172.214951       8.0   \n",
      "4  2007-11-27T00:00:00   14.0                 NaN   4707.997070       8.0   \n",
      "\n",
      "   OBJECTIVE  FIRE_NUM   Shape_Length    Shape_Area  \\\n",
      "0        1.0  00233414    1902.439051  1.041528e+05   \n",
      "1        1.0  00233077   20407.965662  1.143187e+07   \n",
      "2        1.0  00000166  169150.715690  2.363782e+08   \n",
      "3        1.0  00201384    6117.777086  6.969292e+05   \n",
      "4        1.0  00259483   22907.182174  1.905259e+07   \n",
      "\n",
      "                                            geometry  \n",
      "0  MULTIPOLYGON (((138036.906 -402646.363, 138086...  \n",
      "1  MULTIPOLYGON (((130072.487 -398622.842, 130094...  \n",
      "2  MULTIPOLYGON (((114013.974 -379231.746, 114190...  \n",
      "3  MULTIPOLYGON (((176902.236 -388673.082, 176907...  \n",
      "4  MULTIPOLYGON (((115905.006 -436381.137, 115926...  \n"
     ]
    },
    {
     "data": {
      "image/png": "[encoded data removed]",
      "text/plain": [
       "<Figure size 432x288 with 1 Axes>"
      ]
     },
     "metadata": {
      "needs_background": "light"
     },
     "output_type": "display_data"
    }
   ],
   "source": [
    "#set filepath and load gdb folder\n",
    "fp = \"fire18_1.gdb/a000000af.gdbtable\"\n",
    "map_df = gpd.read_file(fp)# check data type so we can see that this is not a normal dataframe, but a GEOdataframe\n",
    "\n",
    "#years = map_df['YEAR_'].unique()\n",
    "#print(years)\n",
    "#print(years.shape)\n",
    "\n",
    "year = 2018\n",
    "year_str = '%d'% year\n",
    "#map_year_df= map_df[map_df['YEAR_']== year_str]\n",
    "\n",
    "#map_year_df = map_year_df[map_year_df['CAUSE']== 1]\n",
    "#map_df = map_year_df\n",
    "print(map_df.head())\n",
    "fires_df = map_df.loc[map_df['STATE'] == 'CA']\n",
    "fires_df.plot()\n",
    "polygon_df = fires_df[\"geometry\"]"
   ]
  },
  {
   "cell_type": "code",
   "execution_count": 33,
   "metadata": {},
   "outputs": [
    {
     "name": "stdout",
     "output_type": "stream",
     "text": [
      "found point percent 0.205177091735719\n",
      "averaged point percent 0.794822908264281\n",
      "--- 19.682923078536987 seconds ---\n"
     ]
    }
   ],
   "source": [
    "bool_pixel_array= np.zeros([lat_diff, long_diff])\n",
    "\n",
    "start_time = time.time()\n",
    "\n",
    "found_point_counter =0 \n",
    "averaged_point_counter =0 \n",
    "\n",
    "#tests if point falls in polygon if it does then it updates the pixel array\n",
    "for multipolygon in polygon_df:#[0:10]: \n",
    "    max_lat = -10000000\n",
    "    min_lat = 10000000\n",
    "    max_long = -10000000\n",
    "    min_long = 10000000\n",
    "    for index, item in enumerate(multipolygon.bounds):\n",
    "        if(index%2==0):\n",
    "            if(item>max_lat):\n",
    "                max_lat = item\n",
    "            \n",
    "            if(item<min_lat):\n",
    "                min_lat = item\n",
    "        else:\n",
    "            if(item>max_long):\n",
    "                max_long= item\n",
    "\n",
    "            if(item<min_long):\n",
    "                min_long = item\n",
    "    #print('new polygon')\n",
    "    \n",
    "    current_pixel_lat = lat_start_index= native_lat_to_points_arr(max_lat) #lat_start_index\n",
    "    pixel_lat_end_index = native_lat_to_points_arr(min_lat)\n",
    "\n",
    "    current_pixel_long = long_start_index= native_long_to_points_arr(min_long)#long_start_index\n",
    "    pixel_long_end_index =  native_long_to_points_arr(max_long)\n",
    "\n",
    "    entered_third_loop = 0\n",
    "    entered_second_loop = 0\n",
    "    found_a_point = 0\n",
    "    averaged_a_point = 0\n",
    "\n",
    "    while(current_pixel_lat<=pixel_lat_end_index): #starting north and going south\n",
    "        current_pixel_long = long_start_index\n",
    "        entered_third_loop =1\n",
    "        \n",
    "        while(current_pixel_long<= pixel_long_end_index): #starting east and going west\n",
    "            entered_second_loop =1\n",
    "            if(current_pixel_lat>=0 and current_pixel_lat<lat_diff and current_pixel_long>=0 and current_pixel_long<long_diff):\n",
    "                if(multipolygon.contains(latitude_longitude_ar[current_pixel_lat, current_pixel_long])):\n",
    "                    found_a_point = 1\n",
    "                    bool_pixel_array[current_pixel_lat,current_pixel_long] = 1\n",
    "\n",
    "            current_pixel_long += 1\n",
    "        current_pixel_lat += 1\n",
    "        \n",
    "    if(found_a_point==0):\n",
    "        pixel_lat=int((lat_start_index+pixel_lat_end_index)/2)\n",
    "        pixel_long=int((long_start_index+pixel_long_end_index)/2)\n",
    "        if(pixel_lat>=0 and pixel_lat<lat_diff and pixel_long>=0 and pixel_long<long_diff):\n",
    "            bool_pixel_array[pixel_lat,pixel_long] = 1\n",
    "            averaged_a_point =1\n",
    "\n",
    "    #print(entered_third_loop)\n",
    "    #print(entered_second_loop)\n",
    "    #print(found_a_point)\n",
    "    #print(averaged_a_point)\n",
    "    \n",
    "    found_point_counter += found_a_point\n",
    "    averaged_point_counter += averaged_a_point\n",
    "    \n",
    "print(\"found point percent\", found_point_counter/(found_point_counter+averaged_point_counter))\n",
    "print(\"averaged point percent\", averaged_point_counter/(found_point_counter+averaged_point_counter))\n",
    "print(\"--- %s seconds ---\" % (time.time() - start_time))"
   ]
  },
  {
   "cell_type": "code",
   "execution_count": 34,
   "metadata": {},
   "outputs": [
    {
     "name": "stdout",
     "output_type": "stream",
     "text": [
      "(263, 285)\n"
     ]
    },
    {
     "data": {
      "image/png": "[encoded data removed]",
      "text/plain": [
       "<Figure size 432x288 with 1 Axes>"
      ]
     },
     "metadata": {
      "needs_background": "light"
     },
     "output_type": "display_data"
    }
   ],
   "source": [
    "fire_map=bool_pixel_array.transpose()\n",
    "fire_map= np.flip(fire_map,0)\n",
    "fire_map= np.flip(fire_map,1)\n",
    "plt.imshow(fire_map, cmap='hot')#, interpolation='nearest')\n",
    "print(fire_map.shape)"
   ]
  },
  {
   "cell_type": "code",
   "execution_count": 35,
   "metadata": {},
   "outputs": [],
   "source": [
    "#format string filename \n",
    "\n",
    "filename ='%d_fires.csv' % year\n",
    "\n",
    "#current_dir_path= \"/Users/kaileyayala/PythonWork/Cleaning Data for Intro Viz/Fire_CSVs/2018\"\n",
    "#np.savetxt(current_dir_path +'/'+ filename, fire_map, delimiter=\",\",fmt=\"%d\")\n",
    "#filename = '2018_fires.csv'\n",
    "#np.savetxt(filename, fire_map, delimiter=\",\",fmt=\"%d\")"
   ]
  },
  {
   "cell_type": "code",
   "execution_count": null,
   "metadata": {},
   "outputs": [],
   "source": []
  }
 ],
 "metadata": {
  "kernelspec": {
   "display_name": "Python 3",
   "language": "python",
   "name": "python3"
  },
  "language_info": {
   "codemirror_mode": {
    "name": "ipython",
    "version": 3
   },
   "file_extension": ".py",
   "mimetype": "text/x-python",
   "name": "python",
   "nbconvert_exporter": "python",
   "pygments_lexer": "ipython3",
   "version": "3.7.6"
  }
 },
 "nbformat": 4,
 "nbformat_minor": 2
}
