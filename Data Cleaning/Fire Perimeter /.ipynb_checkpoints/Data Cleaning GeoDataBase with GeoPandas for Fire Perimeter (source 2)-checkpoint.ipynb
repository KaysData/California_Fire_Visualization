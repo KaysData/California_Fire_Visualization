{
 "cells": [
  {
   "cell_type": "code",
   "execution_count": 37,
   "metadata": {},
   "outputs": [],
   "source": [
    "import pandas as pd\n",
    "import geopandas as gpd\n",
    "import matplotlib.pyplot as plt\n",
    "import numpy as np\n",
    "from shapely.geometry import Point\n",
    "from shapely.geometry.polygon import Polygon\n",
    "%matplotlib inline "
   ]
  },
  {
   "cell_type": "code",
   "execution_count": 38,
   "metadata": {},
   "outputs": [
    {
     "data": {
      "text/plain": [
       "YEAR_           20440\n",
       "STATE           20505\n",
       "AGENCY          20503\n",
       "UNIT_ID         20496\n",
       "FIRE_NAME       20494\n",
       "INC_NUM         19875\n",
       "ALARM_DATE      15149\n",
       "CONT_DATE        7845\n",
       "CAUSE           20463\n",
       "COMMENTS        19164\n",
       "REPORT_AC        8086\n",
       "GIS_ACRES       20502\n",
       "C_METHOD         8287\n",
       "OBJECTIVE       20313\n",
       "FIRE_NUM        17761\n",
       "Shape_Length    20508\n",
       "Shape_Area      20508\n",
       "geometry        20508\n",
       "dtype: int64"
      ]
     },
     "execution_count": 38,
     "metadata": {},
     "output_type": "execute_result"
    }
   ],
   "source": [
    "#set filepath and load gdb folder\n",
    "fp = \"fire18_1.gdb/a000000af.gdbtable\"\n",
    "map_df = gpd.read_file(fp)# check data type so we can see that this is not a normal dataframe, but a GEOdataframe\n",
    "map_df.head()\n",
    "map_df.count()"
   ]
  },
  {
   "cell_type": "code",
   "execution_count": 39,
   "metadata": {},
   "outputs": [
    {
     "data": {
      "image/png": "[encoded data removed]",
      "text/plain": [
       "<Figure size 432x288 with 1 Axes>"
      ]
     },
     "metadata": {
      "needs_background": "light"
     },
     "output_type": "display_data"
    }
   ],
   "source": [
    "map_2018_df= map_df[map_df['YEAR_']== '2018']\n",
    "map_2018_df = map_2018_df[map_2018_df['Shape_Area']>155000000]\n",
    "#print(map_2018_df.count())\n",
    "#print(map_2018_df.head())\n",
    "a_plot= map_2018_df.plot()\n",
    "#print(map_df.iloc[0]['geometry'])\n",
    "#map_df = map_2018_df"
   ]
  },
  {
   "cell_type": "code",
   "execution_count": 40,
   "metadata": {},
   "outputs": [
    {
     "data": {
      "text/plain": [
       "matplotlib.axes._subplots.AxesSubplot"
      ]
     },
     "execution_count": 40,
     "metadata": {},
     "output_type": "execute_result"
    }
   ],
   "source": [
    "type(a_plot)"
   ]
  },
  {
   "cell_type": "code",
   "execution_count": 41,
   "metadata": {},
   "outputs": [],
   "source": [
    "#for col in map_df.columns: \n",
    "#    print(col) \n",
    "\n",
    "#print(map_df.describe())\n",
    "#print(map_df[99:100])"
   ]
  },
  {
   "cell_type": "markdown",
   "metadata": {},
   "source": [
    "###### default file layer\n",
    "TREATMENT_ID\n",
    "TREATMENT_NAME\n",
    "TREATMENT_TYPE\n",
    "UNIT_ID\n",
    "START_DATE\n",
    "END_DATE\n",
    "AGENCY\n",
    "TREATED_AC # AC stands for acres \n",
    "GIS_ACRES\n",
    "STATE\n",
    "YEAR_\n",
    "RX_CONSUM # rx refers to prescribed burns\n",
    "PRE_CON_CLASS\n",
    "POST_CON_CLASS\n",
    "Shape_Length\n",
    "Shape_Area\n",
    "geometry\n",
    "\n",
    "##### \"fire18_1.gdb/a000000af.gdbtable\" aka wildfire perimeter layer\n",
    "YEAR_\n",
    "STATE\n",
    "AGENCY\n",
    "UNIT_ID\n",
    "FIRE_NAME\n",
    "INC_NUM\n",
    "ALARM_DATE\n",
    "CONT_DATE\n",
    "CAUSE\n",
    "COMMENTS\n",
    "REPORT_AC # AC stands for acres\n",
    "GIS_ACRES\n",
    "C_METHOD\n",
    "OBJECTIVE\n",
    "FIRE_NUM\n",
    "Shape_Length\n",
    "Shape_Area\n",
    "geometry\n"
   ]
  },
  {
   "cell_type": "code",
   "execution_count": 42,
   "metadata": {},
   "outputs": [
    {
     "data": {
      "text/html": [
       "<div>\n",
       "<style scoped>\n",
       "    .dataframe tbody tr th:only-of-type {\n",
       "        vertical-align: middle;\n",
       "    }\n",
       "\n",
       "    .dataframe tbody tr th {\n",
       "        vertical-align: top;\n",
       "    }\n",
       "\n",
       "    .dataframe thead th {\n",
       "        text-align: right;\n",
       "    }\n",
       "</style>\n",
       "<table border=\"1\" class=\"dataframe\">\n",
       "  <thead>\n",
       "    <tr style=\"text-align: right;\">\n",
       "      <th></th>\n",
       "      <th>YEAR_</th>\n",
       "      <th>STATE</th>\n",
       "      <th>FIRE_NAME</th>\n",
       "      <th>CAUSE</th>\n",
       "      <th>GIS_ACRES</th>\n",
       "      <th>C_METHOD</th>\n",
       "      <th>OBJECTIVE</th>\n",
       "      <th>geometry</th>\n",
       "    </tr>\n",
       "  </thead>\n",
       "  <tbody>\n",
       "    <tr>\n",
       "      <th>0</th>\n",
       "      <td>2007</td>\n",
       "      <td>CA</td>\n",
       "      <td>OCTOBER</td>\n",
       "      <td>14.0</td>\n",
       "      <td>25.736713</td>\n",
       "      <td>8.0</td>\n",
       "      <td>1.0</td>\n",
       "      <td>MULTIPOLYGON (((138036.906 -402646.363, 138086...</td>\n",
       "    </tr>\n",
       "    <tr>\n",
       "      <th>1</th>\n",
       "      <td>2007</td>\n",
       "      <td>CA</td>\n",
       "      <td>MAGIC</td>\n",
       "      <td>14.0</td>\n",
       "      <td>2824.877197</td>\n",
       "      <td>8.0</td>\n",
       "      <td>1.0</td>\n",
       "      <td>MULTIPOLYGON (((130072.487 -398622.842, 130094...</td>\n",
       "    </tr>\n",
       "    <tr>\n",
       "      <th>2</th>\n",
       "      <td>2007</td>\n",
       "      <td>CA</td>\n",
       "      <td>RANCH</td>\n",
       "      <td>2.0</td>\n",
       "      <td>58410.335938</td>\n",
       "      <td>7.0</td>\n",
       "      <td>1.0</td>\n",
       "      <td>MULTIPOLYGON (((114013.974 -379231.746, 114190...</td>\n",
       "    </tr>\n",
       "    <tr>\n",
       "      <th>3</th>\n",
       "      <td>2007</td>\n",
       "      <td>CA</td>\n",
       "      <td>EMMA</td>\n",
       "      <td>14.0</td>\n",
       "      <td>172.214951</td>\n",
       "      <td>8.0</td>\n",
       "      <td>1.0</td>\n",
       "      <td>MULTIPOLYGON (((176902.236 -388673.082, 176907...</td>\n",
       "    </tr>\n",
       "    <tr>\n",
       "      <th>4</th>\n",
       "      <td>2007</td>\n",
       "      <td>CA</td>\n",
       "      <td>CORRAL</td>\n",
       "      <td>14.0</td>\n",
       "      <td>4707.997070</td>\n",
       "      <td>8.0</td>\n",
       "      <td>1.0</td>\n",
       "      <td>MULTIPOLYGON (((115905.006 -436381.137, 115926...</td>\n",
       "    </tr>\n",
       "  </tbody>\n",
       "</table>\n",
       "</div>"
      ],
      "text/plain": [
       "  YEAR_ STATE FIRE_NAME  CAUSE     GIS_ACRES  C_METHOD  OBJECTIVE  \\\n",
       "0  2007    CA   OCTOBER   14.0     25.736713       8.0        1.0   \n",
       "1  2007    CA     MAGIC   14.0   2824.877197       8.0        1.0   \n",
       "2  2007    CA     RANCH    2.0  58410.335938       7.0        1.0   \n",
       "3  2007    CA      EMMA   14.0    172.214951       8.0        1.0   \n",
       "4  2007    CA    CORRAL   14.0   4707.997070       8.0        1.0   \n",
       "\n",
       "                                            geometry  \n",
       "0  MULTIPOLYGON (((138036.906 -402646.363, 138086...  \n",
       "1  MULTIPOLYGON (((130072.487 -398622.842, 130094...  \n",
       "2  MULTIPOLYGON (((114013.974 -379231.746, 114190...  \n",
       "3  MULTIPOLYGON (((176902.236 -388673.082, 176907...  \n",
       "4  MULTIPOLYGON (((115905.006 -436381.137, 115926...  "
      ]
     },
     "execution_count": 42,
     "metadata": {},
     "output_type": "execute_result"
    }
   ],
   "source": [
    "map_df = map_df.drop(columns=['AGENCY', 'UNIT_ID', 'INC_NUM', 'ALARM_DATE', 'CONT_DATE', 'COMMENTS', 'REPORT_AC','FIRE_NUM','Shape_Length','Shape_Area'])\n",
    "map_df.head()"
   ]
  },
  {
   "cell_type": "code",
   "execution_count": 43,
   "metadata": {},
   "outputs": [],
   "source": [
    "#print(map_df['GIS_ACRES'].min())\n",
    "#print(map_df['GIS_ACRES'].max())\n",
    "#temp_df = map_df[map_df['GIS_ACRES']<1]\n",
    "#map_df.hist(column='GIS_ACRES', bins=100)\n",
    "#map_df.describe()"
   ]
  },
  {
   "cell_type": "code",
   "execution_count": 44,
   "metadata": {},
   "outputs": [
    {
     "data": {
      "text/plain": [
       "<matplotlib.axes._subplots.AxesSubplot at 0x11870b780>"
      ]
     },
     "execution_count": 44,
     "metadata": {},
     "output_type": "execute_result"
    },
    {
     "data": {
      "image/png": "[encoded data removed]",
      "text/plain": [
       "<Figure size 432x288 with 1 Axes>"
      ]
     },
     "metadata": {
      "needs_background": "light"
     },
     "output_type": "display_data"
    }
   ],
   "source": [
    "fires_df = map_df.loc[map_df['STATE'] == 'CA']\n",
    "fires_df.plot()"
   ]
  },
  {
   "cell_type": "code",
   "execution_count": 45,
   "metadata": {},
   "outputs": [],
   "source": [
    "polygon_df = fires_df[\"geometry\"]\n",
    "#first_multi_polygon = polygon_df[4:5]\n",
    "#for multiPolygonNumber, multipolygon in enumerate(polygon_df):\n",
    "#    index =0\n",
    "#    for polygonnumber, polygon in enumerate(multipolygon):\n",
    "#        #print(polygon)\n",
    "#        if(polygonnumber >1 and index == 0):\n",
    "            #print('multiPolygonNumber', multiPolygonNumber)\n",
    "#            index += 1\n",
    "            "
   ]
  },
  {
   "cell_type": "code",
   "execution_count": 46,
   "metadata": {},
   "outputs": [],
   "source": [
    "#testing to see how many multipolyons have more than one subpolygon\n",
    "\n",
    "##first_multi_polygon = polygon_df[12:20]\n",
    "#for multiPolygonNumber, multipolygon in enumerate(polygon_df[16:17]):\n",
    "#    for polygonnumber, polygon in enumerate(multipolygon):\n",
    "#        #print(polygon)\n",
    "#        #print('\\n')\n",
    "#        if(polygonnumber >1):\n",
    "#            print(polygonnumber)"
   ]
  },
  {
   "cell_type": "code",
   "execution_count": 65,
   "metadata": {},
   "outputs": [],
   "source": [
    "# demos how to get bounding box for polygon\n",
    "#for multipolygon in polygon_df[16:17]:\n",
    "#    for polygonNumber, polygon in enumerate(multipolygon):\n",
    "#        if(polygonNumber==1):\n",
    "#            for item in list(polygon.exterior.coords):\n",
    "#                print(item[0], item[1])"
   ]
  },
  {
   "cell_type": "code",
   "execution_count": 48,
   "metadata": {},
   "outputs": [],
   "source": [
    "def native_to_lat(native):\n",
    "    \n",
    "    zeroed_native = native - 447814.640000\n",
    "    \n",
    "    north_latitude = 42.048584 \n",
    "    south_latitude = 32.555802\n",
    "    \n",
    "    north_native = 447814.640000\n",
    "    south_native = -597860.114600\n",
    "    \n",
    "    lat_abs_diff = north_latitude - south_latitude\n",
    "    native_lat_abs_diff = north_native - south_native\n",
    "    \n",
    "    conversion_factor = lat_abs_diff/native_lat_abs_diff\n",
    "    \n",
    "    latitude = (conversion_factor*zeroed_native)+ 42.048584 \n",
    "    return latitude\n",
    "\n",
    "def lat_to_native(latitude):\n",
    "    \n",
    "    zeroed_latitude = latitude - 42.048584\n",
    "    \n",
    "    north_latitude = 42.048584\n",
    "    south_latitude = 32.555802\n",
    "    \n",
    "    north_native = 447814.640000\n",
    "    south_native = -597860.114600\n",
    "    \n",
    "    lat_abs_diff = north_latitude - south_latitude\n",
    "    native_lat_abs_diff = north_native - south_native\n",
    "    \n",
    "    conversion_factor = native_lat_abs_diff/lat_abs_diff\n",
    "    \n",
    "    native = (conversion_factor*zeroed_latitude) + 447814.640000\n",
    "    \n",
    "    return native\n",
    "\n",
    "def native_to_long(native):\n",
    "    \n",
    "    zeroed_native = native + 373246.905000\n",
    "    \n",
    "    west_longitude  = -124.495992\n",
    "    east_longitude = -115.350299\n",
    "    \n",
    "    west_native = -373246.905000\n",
    "    east_native = 386027.559400\n",
    "    \n",
    "    long_abs_diff = -(west_longitude - east_longitude)\n",
    "    native_long_abs_diff = east_native - west_native\n",
    "    \n",
    "    conversion_factor = long_abs_diff/native_long_abs_diff\n",
    "\n",
    "    longitude = (conversion_factor*zeroed_native) -124.495992\n",
    "    return longitude\n",
    "\n",
    "def long_to_native(longitude):\n",
    "    \n",
    "    zeroed_long = longitude + 124.495992\n",
    "    \n",
    "    west_longitude  = -124.495992\n",
    "    east_longitude = -115.350299\n",
    "    \n",
    "    west_native = -373246.905000\n",
    "    east_native = 386027.559400\n",
    "    \n",
    "    long_abs_diff = -(west_longitude - east_longitude)\n",
    "    native_long_abs_diff = east_native - west_native\n",
    "    \n",
    "    conversion_factor = native_long_abs_diff/long_abs_diff\n",
    "\n",
    "    native = (conversion_factor*zeroed_long) -373246.905000\n",
    "    return native\n",
    "\n",
    "def native_lat_to_pixel_y(native_lat):\n",
    "    \n",
    "    zeroed_native = native_lat - 447814.640000\n",
    "    \n",
    "    north_native = 447814.640000\n",
    "    south_native = -597860.114600\n",
    "    \n",
    "    pixel_lat_abs_diff = lat_diff = 263*4\n",
    "    native_lat_abs_diff = north_native - south_native\n",
    "    \n",
    "    conversion_factor = pixel_lat_abs_diff/native_lat_abs_diff\n",
    "    \n",
    "    pixel_y = (conversion_factor*zeroed_native)\n",
    "    return int(pixel_y)\n",
    "    \n",
    "def native_long_to_pixel_x(native_long):\n",
    "    \n",
    "    zeroed_native = native_long + 373246.905000\n",
    "    \n",
    "    west_native = -373246.905000\n",
    "    east_native = 386027.559400\n",
    "    \n",
    "    pixel_long_abs_diff = long_diff = 285 *4\n",
    "    native_long_abs_diff = east_native - west_native\n",
    "    \n",
    "    conversion_factor = pixel_long_abs_diff/native_long_abs_diff\n",
    "\n",
    "    pixel_x = (conversion_factor*zeroed_native) \n",
    "    \n",
    "    return int(pixel_x)"
   ]
  },
  {
   "cell_type": "code",
   "execution_count": null,
   "metadata": {},
   "outputs": [],
   "source": []
  },
  {
   "cell_type": "code",
   "execution_count": 49,
   "metadata": {},
   "outputs": [
    {
     "name": "stdout",
     "output_type": "stream",
     "text": [
      "443481.48373224796 -600244.5236950446\n",
      "-366073.9031292155 486584.9080183847\n"
     ]
    }
   ],
   "source": [
    "lat_diff = 263 *4\n",
    "long_diff = 285 *4\n",
    "\n",
    "#max and min, lat and long from vhi data\n",
    "# Max Latitude    42.009246999999995  Min Latitude   32.534155999999996\n",
    "# Max Longitude  -114.139055          Min Longitude  -124.409591\n",
    "\n",
    "#max lat and long from fire perimeter data\n",
    "north_latitude = 42.048584\n",
    "south_latitude = 32.555802\n",
    "    \n",
    "north_native = 447814.640000\n",
    "south_native = -597860.114600\n",
    "\n",
    "west_longitude  = -124.495992\n",
    "east_longitude = -115.350299\n",
    "    \n",
    "west_native = -373246.905000\n",
    "east_native = 386027.559400\n",
    "\n",
    "#makes list of native 'lats' from in range of maximum and minimum lat from vhi data\n",
    "native_lat_points=np.linspace(lat_to_native(42.009246999999995),lat_to_native(32.534155999999996),num=lat_diff)\n",
    "print(native_lat_points[0], native_lat_points[-1])\n",
    "\n",
    "#makes list of native 'longs' from in range of maximum and minimum long from vhi data\n",
    "native_long_points=np.linspace(long_to_native(-124.409591),long_to_native(-114.139055),num=long_diff)\n",
    "print(native_long_points[0], native_long_points[-1])"
   ]
  },
  {
   "cell_type": "code",
   "execution_count": 50,
   "metadata": {},
   "outputs": [],
   "source": [
    "#makes list of native points to test\n",
    "latitude_longitude_ar = np.zeros([lat_diff*long_diff,2])\n",
    "index = 0\n",
    "\n",
    "for native_n_s in native_lat_points:\n",
    "    for native_w_e in native_long_points:\n",
    "        latitude_longitude_ar[index,0] = native_n_s\n",
    "        latitude_longitude_ar[index,1] = native_w_e\n",
    "        index += 1\n",
    "\n",
    "#print(latitude_longitude_ar[0,:])"
   ]
  },
  {
   "cell_type": "code",
   "execution_count": 51,
   "metadata": {},
   "outputs": [
    {
     "name": "stdout",
     "output_type": "stream",
     "text": [
      "False\n",
      "False\n"
     ]
    }
   ],
   "source": [
    "lat_long_list=[]\n",
    "lat_list=[]\n",
    "long_list=[]\n",
    "\n",
    "for row in latitude_longitude_ar:\n",
    "    point = Point(row[0],row[1])\n",
    "    lat_long_list.append(point)\n",
    "    lat_list.append(row[0])\n",
    "    long_list.append(row[1])\n",
    "\n",
    "polygon=polygon_df.iloc[0]\n",
    "\n",
    "point = lat_long_list[0] # create point\n",
    "print(polygon.contains(point)) # check if polygon contains point\n",
    "print(point.within(polygon)) # check if a point is in the polygon "
   ]
  },
  {
   "cell_type": "code",
   "execution_count": 52,
   "metadata": {},
   "outputs": [
    {
     "name": "stderr",
     "output_type": "stream",
     "text": [
      "/Users/kaileyayala/anaconda3/envs/intro_viz/lib/python3.6/site-packages/ipykernel_launcher.py:3: FutureWarning: from_items is deprecated. Please use DataFrame.from_dict(dict(items), ...) instead. DataFrame.from_dict(OrderedDict(items)) may be used to preserve the key order.\n",
      "  This is separate from the ipykernel package so we can avoid doing imports until\n"
     ]
    },
    {
     "name": "stdout",
     "output_type": "stream",
     "text": [
      "        latitude      longitude                                       points\n",
      "0  443481.483732 -366073.903129  POINT (443481.483732248 -366073.9031292155)\n",
      "1  443481.483732 -365325.300134  POINT (443481.483732248 -365325.3001343537)\n",
      "2  443481.483732 -364576.697139  POINT (443481.483732248 -364576.6971394919)\n"
     ]
    }
   ],
   "source": [
    "#create new df containing native lats and longs\n",
    "data_set= [('latitude',lat_list),('longitude',long_list),('points',lat_long_list)]\n",
    "lat_long_points_df = pd.DataFrame.from_items(data_set)\n",
    "print(lat_long_points_df[0:3])"
   ]
  },
  {
   "cell_type": "code",
   "execution_count": 63,
   "metadata": {},
   "outputs": [
    {
     "name": "stdout",
     "output_type": "stream",
     "text": [
      "--- 139.30875992774963 seconds ---\n"
     ]
    }
   ],
   "source": [
    "bool_pixel_array= np.zeros([lat_diff, long_diff])\n",
    "\n",
    "import time\n",
    "start_time = time.time()\n",
    "\n",
    "#tests if point falls in polygon if it does then it updates the pixel array\n",
    "for polgyon in polygon_df[0:1]:\n",
    "    for index, row in lat_long_points_df.iterrows():\n",
    "        if(polygon.contains(row['points'])):\n",
    "            pixely = native_lat_to_pixel_y(row['latitude'])\n",
    "            pixelx = native_long_to_pixel_x(row['longitude'])\n",
    "            bool_pixel_array[pixelx, pixely] = 1\n",
    "\n",
    "print(\"--- %s seconds ---\" % (time.time() - start_time))\n"
   ]
  },
  {
   "cell_type": "code",
   "execution_count": 61,
   "metadata": {},
   "outputs": [],
   "source": [
    "#plt.imshow(bool_pixel_array, cmap='YlGn', interpolation='nearest')\n",
    "#plt.show()"
   ]
  },
  {
   "cell_type": "markdown",
   "metadata": {},
   "source": [
    "determine size of pixel array (check)\n",
    "\n",
    "make pixel array with boolean values all set to zero (check)\n",
    "\n",
    "get function to find boundary box of multipolygon (check)\n",
    "\n",
    "get function to tell if point is in multipolygon (check)\n",
    "\n",
    "loop through all multipolygon (check)\n",
    "    use boundary box to generate list of points to check in multipolygon (0)\n",
    "        if point is is multipolygon (check)\n",
    "            set pixel boolean to 1 (0)\n",
    "        \n",
    "make a different layer ie. pixel array for each year or other stats (0)"
   ]
  },
  {
   "cell_type": "code",
   "execution_count": 55,
   "metadata": {},
   "outputs": [],
   "source": [
    "#native_lat_to_pixel_y()\n",
    "#native_long_to_pixel_x()"
   ]
  },
  {
   "cell_type": "code",
   "execution_count": 64,
   "metadata": {},
   "outputs": [],
   "source": [
    "#import time\n",
    "#start_time = time.time()\n",
    "\n",
    "#polgyon = polygon_df.iloc[0]\n",
    "#for index in range(lat_diff*long_diff):\n",
    "#    if(polygon.contains(lat_long_points_df.iloc[index]['points'])):\n",
    "#        pixely = native_lat_to_pixel_y(row['latitude'])\n",
    "#        pixelx = native_long_to_pixel_x(row['longitude'])\n",
    "#        bool_pixel_array[pixelx, pixely] = 1\n",
    "        \n",
    "\n",
    "#print(\"--- %s seconds ---\" % (time.time() - start_time))\n"
   ]
  },
  {
   "cell_type": "code",
   "execution_count": 60,
   "metadata": {},
   "outputs": [
    {
     "name": "stdout",
     "output_type": "stream",
     "text": [
      "(array([], dtype=int64), array([], dtype=int64))\n"
     ]
    }
   ],
   "source": [
    "print(np.where(bool_pixel_array!= 0))\n",
    "#plt.imshow(bool_pixel_array, cmap='hot', interpolation='nearest')\n",
    "#plt.show()"
   ]
  },
  {
   "cell_type": "code",
   "execution_count": null,
   "metadata": {},
   "outputs": [],
   "source": [
    "print(lat_long_points_df.iloc[0]['points'])"
   ]
  },
  {
   "cell_type": "code",
   "execution_count": null,
   "metadata": {},
   "outputs": [],
   "source": [
    "lat_long_points_df.count()"
   ]
  },
  {
   "cell_type": "code",
   "execution_count": null,
   "metadata": {},
   "outputs": [],
   "source": [
    "import matplotlib.pyplot as plt\n",
    "import numpy as np\n",
    "\n",
    "# Make a random plot...\n",
    "fig = plt.figure()\n",
    "fig.add_subplot(111)\n",
    "\n",
    "# create a new canvas\n",
    "fig.figure = a_plot\n",
    "\n",
    "# If we haven't already shown or saved the plot, then we need to\n",
    "# draw the figure first...\n",
    "fig.canvas.draw()\n",
    "\n",
    "# Now we can save it to a numpy array.\n",
    "#buffer, dtype=float, count=-1, offset=0\n",
    "data = np.frombuffer(fig.canvas.tostring_rgb(), dtype=np.uint8, )\n",
    "data = data.reshape(fig.canvas.get_width_height()[::-1] + (3,))"
   ]
  },
  {
   "cell_type": "code",
   "execution_count": null,
   "metadata": {},
   "outputs": [],
   "source": [
    "print(numpy.where(data != 255))"
   ]
  },
  {
   "cell_type": "code",
   "execution_count": null,
   "metadata": {},
   "outputs": [],
   "source": [
    "from PIL import Image\n",
    "\n",
    "\n",
    "#w, h = 512, 512\n",
    "#data = np.zeros((h, w, 3), dtype=np.uint8)\n",
    "#data[256, 256] = [255, 0, 0]\n",
    "img = Image.fromarray(data, 'RGB')\n",
    "img.save('my.png')\n",
    "img.show()\n",
    "\n"
   ]
  },
  {
   "cell_type": "code",
   "execution_count": null,
   "metadata": {},
   "outputs": [],
   "source": []
  },
  {
   "cell_type": "code",
   "execution_count": null,
   "metadata": {},
   "outputs": [],
   "source": []
  },
  {
   "cell_type": "code",
   "execution_count": null,
   "metadata": {},
   "outputs": [],
   "source": []
  }
 ],
 "metadata": {
  "kernelspec": {
   "display_name": "Python 3",
   "language": "python",
   "name": "python3"
  },
  "language_info": {
   "codemirror_mode": {
    "name": "ipython",
    "version": 3
   },
   "file_extension": ".py",
   "mimetype": "text/x-python",
   "name": "python",
   "nbconvert_exporter": "python",
   "pygments_lexer": "ipython3",
   "version": "3.7.6"
  }
 },
 "nbformat": 4,
 "nbformat_minor": 2
}
