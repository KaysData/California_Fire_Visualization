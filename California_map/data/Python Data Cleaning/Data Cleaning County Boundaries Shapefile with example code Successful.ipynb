{
 "cells": [
  {
   "cell_type": "code",
   "execution_count": 55,
   "metadata": {},
   "outputs": [],
   "source": [
    "import shapefile\n",
    "import numpy as np\n",
    "import matplotlib.pyplot as plt"
   ]
  },
  {
   "cell_type": "code",
   "execution_count": null,
   "metadata": {},
   "outputs": [],
   "source": [
    "# CODE ADAPTED FROM https://chrishavlin.com/2016/11/16/shapefiles-tutorial/"
   ]
  },
  {
   "cell_type": "code",
   "execution_count": 127,
   "metadata": {},
   "outputs": [],
   "source": [
    "#https://www.census.gov/geographies/mapping-files/time-series/geo/carto-boundary-file.html\n",
    "# \"https://www2.census.gov/geo/tiger/GENZ2018/2018_file_name_def.pdf?#\""
   ]
  },
  {
   "cell_type": "code",
   "execution_count": 56,
   "metadata": {},
   "outputs": [],
   "source": [
    "\"\"\" IMPORT THE SHAPEFILE \"\"\"\n",
    "\n",
    "myshp = open(\"cb_2018_us_county_500k/cb_2018_us_county_500k.shp\", \"rb\")\n",
    "mydbf = open(\"cb_2018_us_county_500k/cb_2018_us_county_500k.dbf\", \"rb\")\n",
    "myshx = open(\"cb_2018_us_county_500k/cb_2018_us_county_500k.shx\", \"rb\")\n",
    "sf = shapefile.Reader(shp=myshp, dbf=mydbf, shx =myshx)\n",
    "\n",
    "myshp=open(\"cb_2015_us_state_20m/cb_2015_us_state_20m.shp\", \"rb\")\n",
    "sf2 = shapefile.Reader(shp= myshp)\n",
    "\n",
    "#print( 'number of shapes imported:',len(sf.shapes()))\n",
    "#print(' ')\n",
    "#print( 'geometry attributes in each shape:')\n",
    "#for name in dir(sf.shape()):\n",
    "#    if not name.startswith('__'):\n",
    "#        print(name)"
   ]
  },
  {
   "cell_type": "code",
   "execution_count": 57,
   "metadata": {},
   "outputs": [
    {
     "data": {
      "text/plain": [
       "\"\\nplt.figure()\\nax = plt.axes()\\nax.set_aspect('equal')\\nshape_ex = sf.shape(1)\\nx_lon = np.zeros((len(shape_ex.points),1))\\ny_lat = np.zeros((len(shape_ex.points),1))\\nfor ip in range(len(shape_ex.points)):\\n    x_lon[ip] = shape_ex.points[ip][0]\\n    y_lat[ip] = shape_ex.points[ip][1]\\n\\nplt.plot(x_lon,y_lat,'k')\\n\\n# use bbox (bounding box) to set plot limits\\nplt.xlim(shape_ex.bbox[0],shape_ex.bbox[2])\\n\""
      ]
     },
     "execution_count": 57,
     "metadata": {},
     "output_type": "execute_result"
    }
   ],
   "source": [
    "\"\"\" PLOTS A COUNTY \"\"\"\n",
    "\"\"\"\n",
    "plt.figure()\n",
    "ax = plt.axes()\n",
    "ax.set_aspect('equal')\n",
    "shape_ex = sf.shape(1)\n",
    "x_lon = np.zeros((len(shape_ex.points),1))\n",
    "y_lat = np.zeros((len(shape_ex.points),1))\n",
    "for ip in range(len(shape_ex.points)):\n",
    "    x_lon[ip] = shape_ex.points[ip][0]\n",
    "    y_lat[ip] = shape_ex.points[ip][1]\n",
    "\n",
    "plt.plot(x_lon,y_lat,'k')\n",
    "\n",
    "# use bbox (bounding box) to set plot limits\n",
    "plt.xlim(shape_ex.bbox[0],shape_ex.bbox[2])\n",
    "\"\"\""
   ]
  },
  {
   "cell_type": "code",
   "execution_count": 58,
   "metadata": {},
   "outputs": [],
   "source": [
    "\"\"\"Subsets Counties\"\"\"\n",
    "countylist = []\n",
    "indexlist=[]\n",
    "for i in range(len(sf)):\n",
    "    s = sf.shape(i).bbox\n",
    "    if (s[0]>-126 and s[0]<-114 and s[1]>32 and s[1]<43):\n",
    "        if(not(s[0]>-120 and s[1]>38)):\n",
    "            countylist.append(sf.shape(i))\n",
    "            indexlist.append(i)\n",
    "\n",
    "shapes = list(sf2.iterShapes())\n",
    "californiaBoundary = shapes[1]\n",
    "\n",
    "subsetCounties=[]\n",
    "#print(len(countylist))\n",
    "\n",
    "nopelist = [13,14,17,28,33,41,52,53,54,56,57,61,62,63,64,65,66,68,75,77]\n",
    "stepthrough = 55\n",
    "for i in range(len(countylist)):\n",
    "    if(i not in nopelist):\n",
    "        subsetCounties.append(countylist[i])\n",
    "subsetCounties.append(californiaBoundary)"
   ]
  },
  {
   "cell_type": "code",
   "execution_count": 59,
   "metadata": {},
   "outputs": [
    {
     "data": {
      "image/png": "[encoded data removed]",
      "text/plain": [
       "<Figure size 432x288 with 1 Axes>"
      ]
     },
     "metadata": {
      "needs_background": "light"
     },
     "output_type": "display_data"
    }
   ],
   "source": [
    "\"\"\" PLOTS COUNTY AND STATE BOUNDARIES\"\"\"\n",
    "\"\"\" Example plot code\"\"\"  \n",
    "a_region_boundaries=[]\n",
    "county_state_boundaries = []\n",
    "\n",
    "plt.figure()\n",
    "ax = plt.axes() # add the axes\n",
    "ax.set_aspect('equal')\n",
    "modulus = 1 # helps produce dataset of size 1/modulus \n",
    "\n",
    "shapes = subsetCounties[0:59] #selects which counties in california to display. California outline is #58\n",
    "for shape in shapes:\n",
    "    npoints = len(shape.points) # total points\n",
    "    nparts = len(shape.parts) # total parts\n",
    "    a_region_boundaries = []\n",
    "\n",
    "    if nparts == 1:\n",
    "        x_lon = np.zeros((len(shape.points),1))\n",
    "        y_lat = np.zeros((len(shape.points),1))\n",
    "        for ip in range(len(shape.points)):\n",
    "            if(ip%modulus==0):\n",
    "                x_lon[ip] = shape.points[ip][0]\n",
    "                y_lat[ip] = shape.points[ip][1]\n",
    "        a_region_boundaries.append(x_lon)\n",
    "        a_region_boundaries.append(y_lat)\n",
    "        plt.plot(x_lon,y_lat, 'tab:blue')\n",
    "\n",
    "    else: # loop over parts of each shape, plot separately\n",
    "        for ip in range(nparts): # loop over parts, plot separately\n",
    "            i0=shape.parts[ip]\n",
    "            if ip < nparts-1:\n",
    "                i1 = shape.parts[ip+1]-1\n",
    "            else:\n",
    "                i1 = npoints\n",
    "\n",
    "            seg=shape.points[i0:i1+1]\n",
    "            x_lon = np.zeros((len(seg),1))\n",
    "            y_lat = np.zeros((len(seg),1))\n",
    "            for ip in range(len(seg)):\n",
    "                if(ip%modulus==0):\n",
    "                    x_lon[ip] = seg[ip][0]\n",
    "                    y_lat[ip] = seg[ip][1]\n",
    "            a_region_boundaries.append(x_lon)\n",
    "            a_region_boundaries.append(y_lat)\n",
    "\n",
    "            plt.plot(x_lon,y_lat,'tab:blue') \n",
    "\n",
    "    county_state_boundaries.append(a_region_boundaries)\n",
    "\n",
    "plt.xlim(-125,-113)\n",
    "plt.ylim(31,43)\n",
    "plt.show()"
   ]
  },
  {
   "cell_type": "code",
   "execution_count": 60,
   "metadata": {},
   "outputs": [],
   "source": [
    "filename = \"California County and State Boundaries.csv\"\n",
    "f= open(filename, \"w\")\n",
    "\n",
    "counter=0\n",
    "f.write(\"county, entry number, lat/long\\n\")#header/column names\n",
    "region = a_region_boundaries\n",
    "for index, region in enumerate(county_state_boundaries):\n",
    "    for num, entry in enumerate(region):\n",
    "        entryNum=int(num/2)\n",
    "        f.write(str(index))\n",
    "        f.write(\",\")\n",
    "        f.write(str(entryNum))\n",
    "        f.write(\",\")\n",
    "        if(counter%2==0):\n",
    "            f.write(\"longitude,\")\n",
    "        else:\n",
    "            f.write(\"latitude,\")\n",
    "        for coord in entry:\n",
    "            for i in coord:\n",
    "                #print(i, \"beep\")\n",
    "                f.write(str(i))\n",
    "                f.write(\", \")\n",
    "        f.write(\"\\n\")\n",
    "        counter +=1\n",
    "#f.write(\"county number \")\n",
    "#f.write(str(index))\n",
    "#f.write(\"\\n\")\n",
    "\n",
    "f.close()"
   ]
  },
  {
   "cell_type": "code",
   "execution_count": 64,
   "metadata": {},
   "outputs": [],
   "source": [
    "filename= \"California Perimeter Boundaries.csv\"\n",
    "f = open(filename, \"w\")\n",
    "california = county_state_boundaries[-1]\n",
    "f.write(\"entry number, lat/long\\n\")#header/column names\n",
    "for num, entry in enumerate(california):\n",
    "    entryNum=int(num/2)\n",
    "    f.write(str(entryNum))\n",
    "    f.write(\",\")\n",
    "    if(counter%2==0):\n",
    "        f.write(\"longitude,\")\n",
    "    else:\n",
    "        f.write(\"latitude,\")\n",
    "    for coord in entry:\n",
    "        for i in coord:\n",
    "            #print(i, \"beep\")\n",
    "            f.write(str(i))\n",
    "            f.write(\", \")\n",
    "    f.write(\"\\n\")\n",
    "    counter +=1\n"
   ]
  },
  {
   "cell_type": "code",
   "execution_count": 90,
   "metadata": {},
   "outputs": [
    {
     "name": "stdout",
     "output_type": "stream",
     "text": [
      "<class 'numpy.float64'>\n",
      "-118.593969\n",
      "12\n"
     ]
    }
   ],
   "source": [
    "#print(type(county_state_boundaries[-1][0][0][0]))\n",
    "#print(county_state_boundaries[-1][0][0][0])\n",
    "\n",
    "index = 0\n",
    "california_boundaries_parts= [np.empty([10,2]), np.empty([9,2]), np.empty([7,2]), np.empty([17,2]), np.empty([13,2]), np.empty([412,2])]\n",
    "#entryNum=0\n",
    "i=0\n",
    "\n",
    "for rowNum, row in enumerate(county_state_boundaries[-1]): #gets rows of lat & long for each part of california\n",
    "\n",
    "    j=int(i)\n",
    "    entryNum=0\n",
    "    if(rowNum%2==0):\n",
    "        for entryNumLat, entry in enumerate(row): # gets numpy array containing data\n",
    "            #print(\"entryNumLat\", entryNumLat)\n",
    "            #print(\"i\",i)\n",
    "            #print(\"j\",j)\n",
    "            california_boundaries_parts[j][entryNumLat,1] = entry[0] #column 1 is Latitude\n",
    "            entryNumLatitude+=1\n",
    "\n",
    "    else:\n",
    "        for entryNumLong, entry in enumerate(row): # gets numpy array containing data\n",
    "            #print(\"entryNumLong\", entryNumLong)\n",
    "            #print(\"i\",i)\n",
    "            #print(\"j\",j)\n",
    "            california_boundaries_parts[j][entryNumLong,0] = entry[0] #column 0 is Longitude\n",
    "            entryNumLongitude+=1\n",
    "    i+=0.5    "
   ]
  },
  {
   "cell_type": "code",
   "execution_count": 103,
   "metadata": {},
   "outputs": [],
   "source": [
    "#print(california_boundaries_parts[5][:,:])"
   ]
  },
  {
   "cell_type": "code",
   "execution_count": 112,
   "metadata": {},
   "outputs": [
    {
     "data": {
      "image/png": "[encoded data removed]",
      "text/plain": [
       "<Figure size 432x288 with 1 Axes>"
      ]
     },
     "metadata": {
      "needs_background": "light"
     },
     "output_type": "display_data"
    }
   ],
   "source": [
    "plt.figure()\n",
    "ax = plt.axes() # add the axes\n",
    "ax.set_aspect('equal')\n",
    "plt.plot(california_boundaries_parts[5][:,1],california_boundaries_parts[5][:,0], 'tab:blue')\n",
    "plt.xlim(-125,-113.5)\n",
    "plt.ylim(32.,42.3)\n",
    "plt.show()"
   ]
  },
  {
   "cell_type": "code",
   "execution_count": 104,
   "metadata": {},
   "outputs": [
    {
     "name": "stdout",
     "output_type": "stream",
     "text": [
      "Max Latitude 42.009246999999995\n",
      "Min Latitude 32.534155999999996\n",
      "Max Longitude -114.139055\n",
      "Min Latitude -124.409591\n"
     ]
    }
   ],
   "source": [
    "print(\"Max Latitude\", max(california_boundaries_parts[5][:,0]))\n",
    "print(\"Min Latitude\", min(california_boundaries_parts[5][:,0]))\n",
    "print(\"Max Longitude\", max(california_boundaries_parts[5][:,1]))\n",
    "print(\"Min Latitude\", min(california_boundaries_parts[5][:,1]))"
   ]
  },
  {
   "cell_type": "code",
   "execution_count": 122,
   "metadata": {},
   "outputs": [],
   "source": [
    "california_mainland_boundaries = california_boundaries_parts[5]\n",
    "filename=\"California_Mainland_Boundaries.csv\"\n",
    "f = open(filename,\"w\")\n",
    "\n",
    "for row in california_mainland_boundaries:\n",
    "    f.write(\"%f, %f \\n\"%(row[0],row[1]))\n",
    "\n",
    "f.close()"
   ]
  },
  {
   "cell_type": "code",
   "execution_count": 126,
   "metadata": {},
   "outputs": [],
   "source": [
    "#prints california island boundaries each to their own file\n",
    "for i in range(5):\n",
    "    california_island_boundaries = california_boundaries_parts[i]\n",
    "    filename=\"California_Island_Boundaries_%s.csv\"%(i)\n",
    "    f = open(filename,\"w\")\n",
    "\n",
    "    for row in california_island_boundaries:\n",
    "        f.write(\"%f, %f \\n\"%(row[0],row[1]))\n",
    "\n",
    "    f.close()"
   ]
  },
  {
   "cell_type": "code",
   "execution_count": null,
   "metadata": {},
   "outputs": [],
   "source": []
  },
  {
   "cell_type": "code",
   "execution_count": null,
   "metadata": {},
   "outputs": [],
   "source": []
  },
  {
   "cell_type": "code",
   "execution_count": null,
   "metadata": {},
   "outputs": [],
   "source": []
  },
  {
   "cell_type": "code",
   "execution_count": null,
   "metadata": {},
   "outputs": [],
   "source": []
  }
 ],
 "metadata": {
  "kernelspec": {
   "display_name": "Python 3",
   "language": "python",
   "name": "python3"
  },
  "language_info": {
   "codemirror_mode": {
    "name": "ipython",
    "version": 3
   },
   "file_extension": ".py",
   "mimetype": "text/x-python",
   "name": "python",
   "nbconvert_exporter": "python",
   "pygments_lexer": "ipython3",
   "version": "3.6.9"
  }
 },
 "nbformat": 4,
 "nbformat_minor": 2
}
